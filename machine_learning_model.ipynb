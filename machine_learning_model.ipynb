{
 "cells": [
  {
   "cell_type": "markdown",
   "metadata": {},
   "source": [
    "# MachineLearningModel.ipynb\n",
    "In this notebook we will create a machine learning model using for Texture Recognition using Haralick Texture Features  \n",
    "\n",
    "\n",
    "Authors: Alexander Goudemond (219030365) and Sumeith Ishwanthlal (219006284)"
   ]
  },
  {
   "cell_type": "code",
   "execution_count": 5,
   "metadata": {},
   "outputs": [],
   "source": [
    "import cv2\n",
    "import numpy as np\n",
    "from os import getcwd, walk\n",
    "import glob\n",
    "from mahotas import features\n",
    "from sklearn.svm import LinearSVC\n",
    "import matplotlib.pyplot as plt\n"
   ]
  },
  {
   "cell_type": "markdown",
   "metadata": {},
   "source": [
    "## Data Preprocessing"
   ]
  },
  {
   "cell_type": "code",
   "execution_count": 6,
   "metadata": {},
   "outputs": [],
   "source": [
    "def extract_features(image):\n",
    "        textures = features.haralick(image)\n",
    "        hf_mean = textures.mean(axis=0)\n",
    "        return hf_mean"
   ]
  },
  {
   "cell_type": "code",
   "execution_count": null,
   "metadata": {},
   "outputs": [],
   "source": [
    "train_features = []\n",
    "train_labels = []\n",
    "currentDir = getcwd()\n",
    "photoPath = currentDir + \"\\\\Notes_DataSet\"\n",
    "path = walk(photoPath)\n",
    "numProcessedImages = 0\n",
    "print(\"Started to extract haralick features from images\")\n",
    "for root, directories, files in path:\n",
    "    for file in files:\n",
    "        image = cv2.imread(\"Notes_DataSet\" + \"\\\\\" + file, cv2.IMREAD_GRAYSCALE)\n",
    "        haralick_features = extract_features(image)\n",
    "        train_features.append(features)\n",
    "        if \"010\" in file.split(\"_\"):\n",
    "            train_labels.append(\"R10\") \n",
    "            \n",
    "        if \"020\" in file.split(\"_\"):\n",
    "            train_labels.append(\"R20\")\n",
    "\n",
    "        if \"050\" in file.split(\"_\"):\n",
    "            train_labels.append(\"R30\")\n",
    "        \n",
    "        if \"100\" in file.split(\"_\"):\n",
    "            train_labels.append(\"R40\")\n",
    "        \n",
    "        if \"200\" in file.split(\"_\"):\n",
    "            train_labels.append(\"R50\")\n",
    "        numProcessedImages += 1\n",
    "\n",
    "        if numProcessedImages % 5 == 0:\n",
    "            print(f\"Processed {numProcessedImages} images...\")\n",
    "        "
   ]
  },
  {
   "cell_type": "code",
   "execution_count": null,
   "metadata": {},
   "outputs": [],
   "source": [
    "currentDir = getcwd()\n",
    "    photoPath = currentDir + \"\\\\Notes_DataSet\"\n",
    "    path = walk(photoPath)\n",
    "\n",
    "    # 4 X 2D Array: Image Sizes, Min/Max Values, Num Pics\n",
    "    dataSetInfo = getDataSetInfo(path)\n",
    "\n",
    "    spacers = \"-\" * 60\n",
    "\n",
    "    print(spacers, \"List of Image Sizes:\", spacers, sep=\"\\n\")\n",
    "    for item in dataSetInfo[0]:\n",
    "        print(item[1])\n",
    "\n",
    "    print(\"\", spacers, \"Global minimum and maximum dimensions:\", spacers, sep=\"\\n\")\n",
    "    for item in dataSetInfo[1]:\n",
    "        print(item[0], item[1])\n",
    "\n",
    "    print(\"\", spacers, \"Average X and Y Values:\", spacers, sep=\"\\n\")\n",
    "    for item in dataSetInfo[2]:\n",
    "        print(item[0], item[1])\n",
    "\n",
    "    print(\"\", spacers, \"Total Number of Pictures in DataSet:\", spacers, sep=\"\\n\")\n",
    "    print(dataSetInfo[3][0][0], dataSetInfo[3][0][1])"
   ]
  }
 ],
 "metadata": {
  "kernelspec": {
   "display_name": "Python 3.9.12 ('COMP702Proj')",
   "language": "python",
   "name": "python3"
  },
  "language_info": {
   "codemirror_mode": {
    "name": "ipython",
    "version": 3
   },
   "file_extension": ".py",
   "mimetype": "text/x-python",
   "name": "python",
   "nbconvert_exporter": "python",
   "pygments_lexer": "ipython3",
   "version": "3.9.12"
  },
  "orig_nbformat": 4,
  "vscode": {
   "interpreter": {
    "hash": "2f9485475195dc84a11a6143ed063eb4083972a273d23aac80d9d84c42b96105"
   }
  }
 },
 "nbformat": 4,
 "nbformat_minor": 2
}
