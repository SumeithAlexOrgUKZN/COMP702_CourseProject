{
 "cells": [
  {
   "cell_type": "markdown",
   "metadata": {},
   "source": [
    "# MachineLearningModel.ipynb\n",
    "In this notebook we will create a machine learning model using for Texture Recognition using Haralick Texture Features  \n",
    "\n",
    "\n",
    "Authors: Alexander Goudemond (219030365) and Sumeith Ishwanthlal (219006284)"
   ]
  },
  {
   "cell_type": "code",
   "execution_count": 1,
   "metadata": {},
   "outputs": [],
   "source": [
    "import cv2\n",
    "import numpy as np\n",
    "from os import getcwd, walk\n",
    "from mahotas import features\n",
    "from sklearn.svm import LinearSVC\n",
    "import matplotlib.pyplot as plt\n",
    "\n",
    "import matplotlib.pyplot as plt\n",
    "import numpy as np\n",
    "import pickle"
   ]
  },
  {
   "cell_type": "markdown",
   "metadata": {},
   "source": [
    "## Data Preprocessing"
   ]
  },
  {
   "cell_type": "code",
   "execution_count": 3,
   "metadata": {},
   "outputs": [],
   "source": [
    "def extract_haralick_features(image):\n",
    "        textures = features.haralick(image)\n",
    "        hf_mean = textures.mean(axis=0)\n",
    "        return hf_mean"
   ]
  },
  {
   "cell_type": "code",
   "execution_count": 4,
   "metadata": {},
   "outputs": [],
   "source": [
    "def extract_colour_channels(image):\n",
    "    return np.array([np.average(image[:, :, 0]), #average red \n",
    "                    np.average(image[:, :, 1]), #average green\n",
    "                    np.average(image[:, :, 2]), #average blue\n",
    "                    np.average(image)]) #average pixel value"
   ]
  },
  {
   "cell_type": "code",
   "execution_count": 5,
   "metadata": {},
   "outputs": [],
   "source": [
    "def extract_hu_moments(image):\n",
    "    feature = cv2.HuMoments(cv2.moments(image)).flatten()\n",
    "    return feature"
   ]
  },
  {
   "cell_type": "code",
   "execution_count": 6,
   "metadata": {},
   "outputs": [
    {
     "name": "stdout",
     "output_type": "stream",
     "text": [
      "Started to extract features from images\n",
      "Processed 5 images...\n",
      "Processed 10 images...\n",
      "Processed 15 images...\n",
      "Processed 20 images...\n",
      "Processed 25 images...\n",
      "Processed 30 images...\n",
      "Processed 35 images...\n",
      "Processed 40 images...\n",
      "Processed 45 images...\n",
      "Processed 50 images...\n",
      "Processed 55 images...\n"
     ]
    }
   ],
   "source": [
    "train_features_haralick = []\n",
    "train_colour_channels = []\n",
    "train_hu_moments = []\n",
    "\n",
    "train_labels = []\n",
    "\n",
    "haralick_features_R10 = []\n",
    "haralick_features_R20 = []\n",
    "haralick_features_R50 = []\n",
    "haralick_features_R100 = []\n",
    "haralick_features_R200 = []\n",
    "\n",
    "colour_channels_R10 = []\n",
    "colour_channels_R20 = []\n",
    "colour_channels_R50 = []\n",
    "colour_channels_R100 = []\n",
    "colour_channels_R200 = []\n",
    "\n",
    "hu_moments_R10 = []\n",
    "hu_moments_R20 = []\n",
    "hu_moments_R50 = []\n",
    "hu_moments_R100 = []\n",
    "hu_moments_R200 = []\n",
    "\n",
    "currentDir = getcwd()\n",
    "photoPath = currentDir + \"\\\\Resized_Notes_DataSet\"\n",
    "path = walk(photoPath)\n",
    "numProcessedImages = 0\n",
    "print(\"Started to extract features from images\")\n",
    "for root, directories, files in path:\n",
    "    for file in files:\n",
    "        greyimage = cv2.imread(\"Resized_Notes_DataSet\" + \"\\\\\" + file, cv2.IMREAD_GRAYSCALE)\n",
    "        colImage = cv2.imread(\"Resized_Notes_DataSet\" + \"\\\\\" + file, cv2.IMREAD_COLOR)\n",
    "\n",
    "        haralick_features = extract_haralick_features(greyimage)\n",
    "        train_features_haralick.append(haralick_features)\n",
    "\n",
    "        hu_features = extract_hu_moments(greyimage)\n",
    "        train_hu_moments.append(hu_features)\n",
    "\n",
    "        colour_channels = extract_colour_channels(colImage)\n",
    "        train_colour_channels.append(colour_channels)\n",
    "\n",
    "        if \"010\" in file.split(\"_\"):\n",
    "            train_labels.append(\"R10\") \n",
    "            haralick_features_R10.append(haralick_features)\n",
    "            colour_channels_R10.append(colour_channels)\n",
    "            hu_moments_R10.append(hu_features)\n",
    "            \n",
    "        if \"020\" in file.split(\"_\"):\n",
    "            train_labels.append(\"R20\")\n",
    "            haralick_features_R20.append(haralick_features)\n",
    "            colour_channels_R20.append(colour_channels)\n",
    "            hu_moments_R20.append(hu_features)\n",
    "\n",
    "        if \"050\" in file.split(\"_\"):\n",
    "            train_labels.append(\"R50\")\n",
    "            haralick_features_R50.append(haralick_features)\n",
    "            colour_channels_R50.append(colour_channels)\n",
    "            hu_moments_R50.append(hu_features)\n",
    "        \n",
    "        if \"100\" in file.split(\"_\"):\n",
    "            train_labels.append(\"R100\")\n",
    "            haralick_features_R100.append(haralick_features)\n",
    "            colour_channels_R100.append(colour_channels)\n",
    "            hu_moments_R100.append(hu_features)\n",
    "        \n",
    "        if \"200\" in file.split(\"_\"):\n",
    "            train_labels.append(\"R200\")\n",
    "            haralick_features_R200.append(haralick_features)\n",
    "            colour_channels_R200.append(colour_channels)\n",
    "            hu_moments_R200.append(hu_features)\n",
    "        \n",
    "        numProcessedImages += 1\n",
    "        if numProcessedImages % 5 == 0:\n",
    "            print(f\"Processed {numProcessedImages} images...\")"
   ]
  },
  {
   "cell_type": "code",
   "execution_count": 7,
   "metadata": {},
   "outputs": [
    {
     "name": "stdout",
     "output_type": "stream",
     "text": [
      "The first 5 Training features: \n",
      "[array([ 2.21735310e-03,  2.44882308e+01,  9.89739846e-01,  1.19330041e+03,\n",
      "        4.62530546e-01,  3.26819293e+02,  4.74871340e+03,  7.87819762e+00,\n",
      "        1.04907269e+01,  7.74987469e-04,  3.05994005e+00, -4.82180924e-01,\n",
      "        9.99256553e-01]), array([ 1.20108062e-03,  1.13388904e+02,  9.62949707e-01,  1.53006977e+03,\n",
      "        3.14995920e-01,  3.26316145e+02,  6.00689018e+03,  8.07467024e+00,\n",
      "        1.17076166e+01,  3.97791456e-04,  4.01307517e+00, -3.51088010e-01,\n",
      "        9.96104340e-01]), array([ 7.64297360e-04,  7.87853363e+01,  9.77069865e-01,  1.71774336e+03,\n",
      "        3.24528752e-01,  3.59658595e+02,  6.79218809e+03,  8.22449889e+00,\n",
      "        1.16125961e+01,  4.67528431e-04,  3.73512105e+00, -3.95202558e-01,\n",
      "        9.98115093e-01]), array([ 6.19590581e-04,  2.97784925e+02,  9.11337101e-01,  1.67917418e+03,\n",
      "        1.85281168e-01,  3.25753995e+02,  6.41891179e+03,  8.08981896e+00,\n",
      "        1.25459982e+01,  2.15247560e-04,  4.79594544e+00, -2.41134960e-01,\n",
      "        9.82820798e-01]), array([ 7.04364555e-03,  3.55716222e+01,  9.91564336e-01,  2.10816158e+03,\n",
      "        4.33767172e-01,  3.98673602e+02,  8.39707471e+03,  7.78679370e+00,\n",
      "        1.04702533e+01,  6.07172952e-04,  3.33641013e+00, -4.68989114e-01,\n",
      "        9.99070062e-01])]\n"
     ]
    }
   ],
   "source": [
    "print(f\"The first 5 Training features: \\n{train_features_haralick[:5]}\")"
   ]
  },
  {
   "cell_type": "code",
   "execution_count": 8,
   "metadata": {},
   "outputs": [
    {
     "name": "stdout",
     "output_type": "stream",
     "text": [
      "The first 5 Training average pixels: \n",
      "[array([149.44164276, 179.03445625, 138.08300591, 155.51970164]), array([149.1907959 , 178.79446983, 137.83278275, 155.27268283]), array([157.14299011, 193.58179092, 161.51134682, 170.74537595]), array([148.86021233, 178.54326439, 137.53833199, 154.9806029 ]), array([182.90674973, 206.52408028, 191.63935089, 193.6900603 ])]\n"
     ]
    }
   ],
   "source": [
    "print(f\"The first 5 Training average pixels: \\n{train_colour_channels[:5]}\")"
   ]
  },
  {
   "cell_type": "code",
   "execution_count": 9,
   "metadata": {},
   "outputs": [
    {
     "name": "stdout",
     "output_type": "stream",
     "text": [
      "The first 5 train hu moments: \n",
      "[array([1.31191746e-03, 6.59618352e-07, 2.45967472e-11, 2.68422439e-11,\n",
      "       6.89109838e-22, 2.15962088e-14, 2.87872478e-23]), array([1.31398252e-03, 6.61836906e-07, 2.48447379e-11, 2.71252309e-11,\n",
      "       7.03564630e-22, 2.18611925e-14, 2.91868946e-23]), array([1.20014855e-03, 5.52833583e-07, 1.93921556e-11, 2.31303266e-11,\n",
      "       4.89140433e-22, 1.69440070e-14, 2.68255562e-23]), array([1.31611628e-03, 6.64021560e-07, 2.51368354e-11, 2.74469938e-11,\n",
      "       7.20300403e-22, 2.21559669e-14, 3.02965050e-23]), array([ 1.09531805e-03,  4.39080633e-07,  1.64353010e-11,  2.17337484e-11,\n",
      "        4.10093572e-22,  1.43878801e-14, -2.34326738e-23])]\n"
     ]
    }
   ],
   "source": [
    "print(f\"The first 5 train hu moments: \\n{train_hu_moments[:5]}\")"
   ]
  },
  {
   "cell_type": "code",
   "execution_count": 10,
   "metadata": {},
   "outputs": [
    {
     "name": "stdout",
     "output_type": "stream",
     "text": [
      "The first 5 Training labels: ['R10', 'R10', 'R10', 'R10', 'R10']\n"
     ]
    }
   ],
   "source": [
    "print(f\"The first 5 Training labels: {train_labels[:5]}\")"
   ]
  },
  {
   "cell_type": "code",
   "execution_count": 11,
   "metadata": {},
   "outputs": [
    {
     "data": {
      "text/plain": [
       "<matplotlib.collections.PathCollection at 0x282a9d644c0>"
      ]
     },
     "execution_count": 11,
     "metadata": {},
     "output_type": "execute_result"
    },
    {
     "data": {
      "image/png": "[encoded data removed]",
      "text/plain": [
       "<Figure size 432x288 with 1 Axes>"
      ]
     },
     "metadata": {
      "needs_background": "light"
     },
     "output_type": "display_data"
    }
   ],
   "source": [
    "plt.scatter(x= [    [1, 2, 3, 4, 5, 6, 7, 8, 9, 10, 11, 12, 13] * 11,\n",
    "                    [21, 22, 23, 24, 25, 26, 27, 28, 29, 30, 31, 32, 33] * 11 ,\n",
    "                    [41, 42, 43, 44, 45, 46, 47, 48, 49, 50, 51, 52, 53] * 11, \n",
    "                    [61, 62, 63, 64, 65, 66, 67, 68, 69, 70, 71, 72, 73] * 11,\n",
    "                    [81, 82, 83, 84, 85, 86, 87, 88, 89, 90, 91, 92, 93] * 11],\n",
    "y = [haralick_features_R10,haralick_features_R20,haralick_features_R50,haralick_features_R100,haralick_features_R200])"
   ]
  },
  {
   "cell_type": "code",
   "execution_count": 12,
   "metadata": {},
   "outputs": [
    {
     "data": {
      "text/plain": [
       "<matplotlib.collections.PathCollection at 0x282a9da86d0>"
      ]
     },
     "execution_count": 12,
     "metadata": {},
     "output_type": "execute_result"
    },
    {
     "data": {
      "image/png": "[encoded data removed]",
      "text/plain": [
       "<Figure size 432x288 with 1 Axes>"
      ]
     },
     "metadata": {
      "needs_background": "light"
     },
     "output_type": "display_data"
    }
   ],
   "source": [
    "plt.scatter(x= [ [1, 2, 3, 4] * 11,[11, 12, 13, 14] * 11 ,[21, 22, 23, 24] * 11, [31, 32, 33, 34] * 11, [41, 42, 43, 44] * 11],\n",
    "y = [colour_channels_R10,colour_channels_R20,colour_channels_R50,colour_channels_R100,colour_channels_R200])"
   ]
  },
  {
   "cell_type": "code",
   "execution_count": 13,
   "metadata": {},
   "outputs": [
    {
     "data": {
      "text/plain": [
       "<matplotlib.collections.PathCollection at 0x282a9e81a90>"
      ]
     },
     "execution_count": 13,
     "metadata": {},
     "output_type": "execute_result"
    },
    {
     "data": {
      "image/png": "[encoded data removed]",
      "text/plain": [
       "<Figure size 432x288 with 1 Axes>"
      ]
     },
     "metadata": {
      "needs_background": "light"
     },
     "output_type": "display_data"
    }
   ],
   "source": [
    "plt.scatter(x= [ [1, 2, 3, 4,5,6,7] * 11,\n",
    "                [11, 12, 13, 14,15,16,17] * 11 ,\n",
    "                [21, 22, 23, 24,25,26,27] * 11, \n",
    "                [31, 32, 33, 34,35,36,37] * 11,\n",
    "                [41, 42, 43, 44,45,46,47] * 11],\n",
    "y = [hu_moments_R10,hu_moments_R20,hu_moments_R50,hu_moments_R100,hu_moments_R200])"
   ]
  },
  {
   "cell_type": "markdown",
   "metadata": {},
   "source": [
    "# Creating the Machine Learning Classifier"
   ]
  },
  {
   "cell_type": "code",
   "execution_count": 14,
   "metadata": {},
   "outputs": [
    {
     "name": "stderr",
     "output_type": "stream",
     "text": [
      "c:\\Users\\sumei\\anaconda3\\envs\\COMP702Proj\\lib\\site-packages\\sklearn\\svm\\_base.py:1206: ConvergenceWarning: Liblinear failed to converge, increase the number of iterations.\n",
      "  warnings.warn(\n"
     ]
    }
   ],
   "source": [
    "modelHaralick = LinearSVC(random_state = 9, max_iter = 100000000)\n",
    "modelHaralick.fit(train_features_haralick, train_labels)\n",
    "filename = 'modelHaralick.sav'\n",
    "pickle.dump(modelHaralick, open(filename, 'wb'))"
   ]
  },
  {
   "cell_type": "code",
   "execution_count": 15,
   "metadata": {},
   "outputs": [],
   "source": [
    "modelColourChanels = LinearSVC(random_state = 9, max_iter = 100000000)\n",
    "modelColourChanels.fit(train_colour_channels, train_labels)\n",
    "filename = 'modelColourChanels.sav'\n",
    "pickle.dump(modelColourChanels, open(filename, 'wb'))"
   ]
  },
  {
   "cell_type": "code",
   "execution_count": 16,
   "metadata": {},
   "outputs": [],
   "source": [
    "modelHuMoments = LinearSVC(random_state = 9, max_iter = 100000000)\n",
    "modelHuMoments.fit(train_hu_moments, train_labels)\n",
    "filename = 'modelHuMoments.sav'\n",
    "pickle.dump(modelHuMoments, open(filename, 'wb'))"
   ]
  },
  {
   "cell_type": "markdown",
   "metadata": {},
   "source": [
    "# Evaluating Models"
   ]
  },
  {
   "cell_type": "code",
   "execution_count": 55,
   "metadata": {},
   "outputs": [],
   "source": [
    "HaralickPredictionList = []\n",
    "ColourChanelsPredictionList = []\n",
    "HuMomentsPredictionList = []\n",
    "\n",
    "predictionTestList = []\n",
    "currentDir = getcwd()\n",
    "photoPath = currentDir + \"\\\\MessedUp_Notes_DataSet\"\n",
    "path = walk(photoPath)\n",
    "for root, directories, files in path:\n",
    "    for file in files:\n",
    "        greyimage = cv2.imread(root + \"\\\\\" + file, cv2.IMREAD_GRAYSCALE)\n",
    "        colImage = cv2.imread(root + \"\\\\\" + file, cv2.IMREAD_COLOR)\n",
    "\n",
    "        haralick_features = extract_haralick_features(greyimage)\n",
    "        hu_features = extract_hu_moments(greyimage)\n",
    "        colour_channels = extract_colour_channels(colImage)\n",
    "\n",
    "        predictionHaralick = modelHaralick.predict(haralick_features.reshape(1, -1))[0]\n",
    "        predictionColourChanels = modelColourChanels.predict(colour_channels.reshape(1, -1))[0]\n",
    "        predictionHuMoments = modelHuMoments.predict(hu_features.reshape(1, -1))[0]\n",
    "        \n",
    "        HaralickPredictionList.append(predictionHaralick)\n",
    "        ColourChanelsPredictionList.append(predictionColourChanels)\n",
    "        HuMomentsPredictionList.append(predictionHuMoments)\n",
    "\n",
    "\n",
    "        colour_channels = extract_colour_channels(colImage)\n",
    "        \n",
    "        if \"010\" in file.split(\"_\"):\n",
    "            predictionTestList.append(\"R10\")\n",
    "            \n",
    "        elif \"020\" in file.split(\"_\"):\n",
    "            predictionTestList.append(\"R20\")\n",
    "\n",
    "        elif \"050\" in file.split(\"_\"):\n",
    "            train_labels.append(\"R50\")\n",
    "        \n",
    "        elif \"100\" in file.split(\"_\"):\n",
    "            predictionTestList.append(\"R100\")\n",
    "        \n",
    "        elif \"200\" in file.split(\"_\"):\n",
    "            predictionTestList.append(\"R200\")\n"
   ]
  },
  {
   "cell_type": "code",
   "execution_count": 57,
   "metadata": {},
   "outputs": [
    {
     "name": "stdout",
     "output_type": "stream",
     "text": [
      "44\n",
      "The accuracy for the model which uses Haralick features: 31.818181818181817\n",
      "The accuracy for the model which uses Colour Channel features: 50.0\n",
      "The accuracy for the model which uses Hu Moments: 25.0\n"
     ]
    }
   ],
   "source": [
    "total = 0\n",
    "numHaralickPred = 0\n",
    "numColourPred = 0\n",
    "numHuMoments = 0\n",
    "\n",
    "for index in range(len(predictionTestList)):\n",
    "    if predictionTestList[index] == HaralickPredictionList[index]:\n",
    "        numHaralickPred += 1\n",
    "\n",
    "    if predictionTestList[index] == ColourChanelsPredictionList[index]:\n",
    "        numColourPred += 1\n",
    "\n",
    "    if predictionTestList[index] == HuMomentsPredictionList[index]:\n",
    "        numHuMoments += 1\n",
    "\n",
    "    total +=1\n",
    "\n",
    "print(total)\n",
    "print(f\"The accuracy for the model which uses Haralick features: {numHaralickPred/total *100}\")\n",
    "print(f\"The accuracy for the model which uses Colour Channel features: {numColourPred/total *100}\")\n",
    "print(f\"The accuracy for the model which uses Hu Moments: {numHuMoments/total *100}\")\n"
   ]
  }
 ],
 "metadata": {
  "kernelspec": {
   "display_name": "Python 3.9.12 ('COMP702Proj')",
   "language": "python",
   "name": "python3"
  },
  "language_info": {
   "codemirror_mode": {
    "name": "ipython",
    "version": 3
   },
   "file_extension": ".py",
   "mimetype": "text/x-python",
   "name": "python",
   "nbconvert_exporter": "python",
   "pygments_lexer": "ipython3",
   "version": "3.9.12"
  },
  "orig_nbformat": 4,
  "vscode": {
   "interpreter": {
    "hash": "2f9485475195dc84a11a6143ed063eb4083972a273d23aac80d9d84c42b96105"
   }
  }
 },
 "nbformat": 4,
 "nbformat_minor": 2
}
