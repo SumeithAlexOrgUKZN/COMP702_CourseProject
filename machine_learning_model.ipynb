{
 "cells": [
  {
   "cell_type": "markdown",
   "metadata": {},
   "source": [
    "# MachineLearningModel.ipynb\n",
    "In this notebook we will create a machine learning model using for Texture Recognition using Haralick Texture Features  \n",
    "\n",
    "\n",
    "Authors: Alexander Goudemond (219030365) and Sumeith Ishwanthlal (219006284)"
   ]
  },
  {
   "cell_type": "code",
   "execution_count": 1,
   "metadata": {},
   "outputs": [],
   "source": [
    "import cv2\n",
    "import numpy as np\n",
    "from os import getcwd, walk\n",
    "from mahotas import features\n",
    "from sklearn.svm import LinearSVC\n",
    "import matplotlib.pyplot as plt\n",
    "import tensorflow as tf\n",
    "from tensorflow.keras import layers, models\n",
    "from tensorflow.keras.utils import to_categorical\n",
    "import matplotlib.pyplot as plt\n",
    "import numpy as np\n",
    "import pickle"
   ]
  },
  {
   "cell_type": "markdown",
   "metadata": {},
   "source": [
    "## Data Preprocessing"
   ]
  },
  {
   "cell_type": "code",
   "execution_count": 2,
   "metadata": {},
   "outputs": [],
   "source": [
    "def extract_haralick_features(image):\n",
    "        textures = features.haralick(image)\n",
    "        hf_mean = textures.mean(axis=0)\n",
    "        return hf_mean"
   ]
  },
  {
   "cell_type": "code",
   "execution_count": 3,
   "metadata": {},
   "outputs": [],
   "source": [
    "def extract_average_pixel_value(image):\n",
    "    return np.array([np.average(image[:, :, 0]), #average red \n",
    "                    np.average(image[:, :, 1]), #average green\n",
    "                    np.average(image[:, :, 2]), #average blue\n",
    "                    np.average(image)]) #average pixel value"
   ]
  },
  {
   "cell_type": "code",
   "execution_count": 4,
   "metadata": {},
   "outputs": [
    {
     "name": "stdout",
     "output_type": "stream",
     "text": [
      "Started to extract features from images\n",
      "Processed 5 images...\n",
      "Processed 10 images...\n",
      "Processed 15 images...\n",
      "Processed 20 images...\n",
      "Processed 25 images...\n",
      "Processed 30 images...\n",
      "Processed 35 images...\n",
      "Processed 40 images...\n",
      "Processed 45 images...\n",
      "Processed 50 images...\n",
      "Processed 55 images...\n"
     ]
    }
   ],
   "source": [
    "train_features_haralick = []\n",
    "train_average_pixel = []\n",
    "train_images = []\n",
    "train_labels = []\n",
    "cnn_train_labels = []\n",
    "haralick_features_R10 = []\n",
    "haralick_features_R20 = []\n",
    "haralick_features_R50 = []\n",
    "haralick_features_R100 = []\n",
    "haralick_features_R200 = []\n",
    "\n",
    "average_pixel__R10 = []\n",
    "average_pixel__R20 = []\n",
    "average_pixel__R50 = []\n",
    "average_pixel__R100 = []\n",
    "average_pixel__R200 = []\n",
    "\n",
    "\n",
    "currentDir = getcwd()\n",
    "photoPath = currentDir + \"\\\\Resized_Notes_DataSet\"\n",
    "path = walk(photoPath)\n",
    "numProcessedImages = 0\n",
    "print(\"Started to extract features from images\")\n",
    "for root, directories, files in path:\n",
    "    for file in files:\n",
    "\n",
    "        greyimage = cv2.imread(\"Resized_Notes_DataSet\" + \"\\\\\" + file, cv2.IMREAD_GRAYSCALE)\n",
    "        colImage = cv2.imread(\"Resized_Notes_DataSet\" + \"\\\\\" + file, cv2.IMREAD_COLOR)\n",
    "\n",
    "        haralick_features = extract_haralick_features(greyimage)\n",
    "        train_features_haralick.append(haralick_features)\n",
    "        train_images.append(colImage)\n",
    "\n",
    "        average_pixel = extract_average_pixel_value(colImage)\n",
    "        train_average_pixel.append(average_pixel)\n",
    "\n",
    "        if \"010\" in file.split(\"_\"):\n",
    "            train_labels.append(\"R10\") \n",
    "            cnn_train_labels.append(0)\n",
    "            haralick_features_R10.append(haralick_features)\n",
    "            average_pixel__R10.append(average_pixel)\n",
    "            \n",
    "        if \"020\" in file.split(\"_\"):\n",
    "            train_labels.append(\"R20\")\n",
    "            cnn_train_labels.append(1)\n",
    "            haralick_features_R20.append(haralick_features)\n",
    "            average_pixel__R20.append(average_pixel)\n",
    "\n",
    "        if \"050\" in file.split(\"_\"):\n",
    "            train_labels.append(\"R50\")\n",
    "            cnn_train_labels.append(2)\n",
    "            haralick_features_R50.append(haralick_features)\n",
    "            average_pixel__R50.append(average_pixel)\n",
    "        \n",
    "        if \"100\" in file.split(\"_\"):\n",
    "            train_labels.append(\"R100\")\n",
    "            cnn_train_labels.append(3)\n",
    "            haralick_features_R100.append(haralick_features)\n",
    "            average_pixel__R100.append(average_pixel)\n",
    "        \n",
    "        if \"200\" in file.split(\"_\"):\n",
    "            train_labels.append(\"R200\")\n",
    "            cnn_train_labels.append(4)\n",
    "            haralick_features_R200.append(haralick_features)\n",
    "            average_pixel__R200.append(average_pixel)\n",
    "        \n",
    "        numProcessedImages += 1\n",
    "        if numProcessedImages % 5 == 0:\n",
    "            print(f\"Processed {numProcessedImages} images...\")"
   ]
  },
  {
   "cell_type": "code",
   "execution_count": 5,
   "metadata": {},
   "outputs": [
    {
     "name": "stdout",
     "output_type": "stream",
     "text": [
      "The first 5 Training features: \n",
      "[array([ 2.21735310e-03,  2.44882308e+01,  9.89739846e-01,  1.19330041e+03,\n",
      "        4.62530546e-01,  3.26819293e+02,  4.74871340e+03,  7.87819762e+00,\n",
      "        1.04907269e+01,  7.74987469e-04,  3.05994005e+00, -4.82180924e-01,\n",
      "        9.99256553e-01]), array([ 1.20108062e-03,  1.13388904e+02,  9.62949707e-01,  1.53006977e+03,\n",
      "        3.14995920e-01,  3.26316145e+02,  6.00689018e+03,  8.07467024e+00,\n",
      "        1.17076166e+01,  3.97791456e-04,  4.01307517e+00, -3.51088010e-01,\n",
      "        9.96104340e-01]), array([ 7.64297360e-04,  7.87853363e+01,  9.77069865e-01,  1.71774336e+03,\n",
      "        3.24528752e-01,  3.59658595e+02,  6.79218809e+03,  8.22449889e+00,\n",
      "        1.16125961e+01,  4.67528431e-04,  3.73512105e+00, -3.95202558e-01,\n",
      "        9.98115093e-01]), array([ 6.19590581e-04,  2.97784925e+02,  9.11337101e-01,  1.67917418e+03,\n",
      "        1.85281168e-01,  3.25753995e+02,  6.41891179e+03,  8.08981896e+00,\n",
      "        1.25459982e+01,  2.15247560e-04,  4.79594544e+00, -2.41134960e-01,\n",
      "        9.82820798e-01]), array([ 7.04364555e-03,  3.55716222e+01,  9.91564336e-01,  2.10816158e+03,\n",
      "        4.33767172e-01,  3.98673602e+02,  8.39707471e+03,  7.78679370e+00,\n",
      "        1.04702533e+01,  6.07172952e-04,  3.33641013e+00, -4.68989114e-01,\n",
      "        9.99070062e-01])]\n"
     ]
    }
   ],
   "source": [
    "print(f\"The first 5 Training features: \\n{train_features_haralick[:5]}\")"
   ]
  },
  {
   "cell_type": "code",
   "execution_count": 6,
   "metadata": {},
   "outputs": [
    {
     "name": "stdout",
     "output_type": "stream",
     "text": [
      "The first 5 Training average pixels: \n",
      "[array([149.44164276, 179.03445625, 138.08300591, 155.51970164]), array([149.1907959 , 178.79446983, 137.83278275, 155.27268283]), array([157.14299011, 193.58179092, 161.51134682, 170.74537595]), array([148.86021233, 178.54326439, 137.53833199, 154.9806029 ]), array([182.90674973, 206.52408028, 191.63935089, 193.6900603 ])]\n"
     ]
    }
   ],
   "source": [
    "print(f\"The first 5 Training average pixels: \\n{train_average_pixel[:5]}\")"
   ]
  },
  {
   "cell_type": "code",
   "execution_count": 7,
   "metadata": {},
   "outputs": [
    {
     "name": "stdout",
     "output_type": "stream",
     "text": [
      "The first training image: \n",
      "[[[171 203 138]\n",
      "  [170 202 137]\n",
      "  [164 198 128]\n",
      "  ...\n",
      "  [168 201 127]\n",
      "  [171 204 130]\n",
      "  [172 205 131]]\n",
      "\n",
      " [[171 203 138]\n",
      "  [169 201 136]\n",
      "  [163 197 127]\n",
      "  ...\n",
      "  [167 200 126]\n",
      "  [170 203 129]\n",
      "  [171 204 130]]\n",
      "\n",
      " [[168 200 135]\n",
      "  [167 199 134]\n",
      "  [161 195 125]\n",
      "  ...\n",
      "  [166 199 125]\n",
      "  [169 202 128]\n",
      "  [170 203 129]]\n",
      "\n",
      " ...\n",
      "\n",
      " [[168 203 123]\n",
      "  [167 202 122]\n",
      "  [158 193 113]\n",
      "  ...\n",
      "  [164 197 122]\n",
      "  [168 201 126]\n",
      "  [169 202 127]]\n",
      "\n",
      " [[170 204 127]\n",
      "  [170 204 127]\n",
      "  [161 196 116]\n",
      "  ...\n",
      "  [166 199 124]\n",
      "  [170 203 128]\n",
      "  [171 204 129]]\n",
      "\n",
      " [[171 205 128]\n",
      "  [171 205 128]\n",
      "  [162 196 119]\n",
      "  ...\n",
      "  [167 200 125]\n",
      "  [171 204 129]\n",
      "  [172 205 130]]]\n"
     ]
    }
   ],
   "source": [
    "print(f\"The first training image: \\n{train_images[1]}\")"
   ]
  },
  {
   "cell_type": "code",
   "execution_count": 8,
   "metadata": {},
   "outputs": [
    {
     "name": "stdout",
     "output_type": "stream",
     "text": [
      "The first 5 Training labels: ['R10', 'R10', 'R10', 'R10', 'R10']\n"
     ]
    }
   ],
   "source": [
    "print(f\"The first 5 Training labels: {train_labels[:5]}\")"
   ]
  },
  {
   "cell_type": "code",
   "execution_count": 9,
   "metadata": {},
   "outputs": [],
   "source": [
    "cnn_train_labels = to_categorical(cnn_train_labels)"
   ]
  },
  {
   "cell_type": "code",
   "execution_count": 10,
   "metadata": {},
   "outputs": [
    {
     "data": {
      "text/plain": [
       "array([[1., 0., 0., 0., 0.],\n",
       "       [1., 0., 0., 0., 0.],\n",
       "       [1., 0., 0., 0., 0.],\n",
       "       [1., 0., 0., 0., 0.],\n",
       "       [1., 0., 0., 0., 0.]], dtype=float32)"
      ]
     },
     "execution_count": 10,
     "metadata": {},
     "output_type": "execute_result"
    }
   ],
   "source": [
    "cnn_train_labels[:5]"
   ]
  },
  {
   "cell_type": "code",
   "execution_count": 11,
   "metadata": {},
   "outputs": [
    {
     "data": {
      "text/plain": [
       "<matplotlib.collections.PathCollection at 0x2b9c5593eb0>"
      ]
     },
     "execution_count": 11,
     "metadata": {},
     "output_type": "execute_result"
    },
    {
     "data": {
      "image/png": "[encoded data removed]",
      "text/plain": [
       "<Figure size 432x288 with 1 Axes>"
      ]
     },
     "metadata": {
      "needs_background": "light"
     },
     "output_type": "display_data"
    }
   ],
   "source": [
    "plt.scatter(x= [ [1, 11, 21, 31] * 11,[2, 12, 22, 32] * 11 ,[3, 13, 23, 33] * 11, [4, 14, 24, 34] * 11, [5, 15, 25, 35] * 11],\n",
    "y = [average_pixel__R10,average_pixel__R20,average_pixel__R50,average_pixel__R100,average_pixel__R200])"
   ]
  },
  {
   "cell_type": "markdown",
   "metadata": {},
   "source": [
    "# Creating the Machine Learning Classifier"
   ]
  },
  {
   "cell_type": "code",
   "execution_count": 11,
   "metadata": {},
   "outputs": [
    {
     "name": "stderr",
     "output_type": "stream",
     "text": [
      "c:\\Users\\sumei\\anaconda3\\envs\\COMP702Proj\\lib\\site-packages\\sklearn\\svm\\_base.py:1206: ConvergenceWarning: Liblinear failed to converge, increase the number of iterations.\n",
      "  warnings.warn(\n"
     ]
    },
    {
     "data": {
      "text/plain": [
       "LinearSVC(max_iter=100000000, random_state=9)"
      ]
     },
     "execution_count": 11,
     "metadata": {},
     "output_type": "execute_result"
    }
   ],
   "source": [
    "modelHaralick = LinearSVC(random_state = 9, max_iter = 100000000)\n",
    "c.fit(train_features_haralick, train_labels)\n",
    "filename = 'modelHaralick.sav'\n",
    "pickle.dump(modelHaralick, open(filename, 'wb'))"
   ]
  },
  {
   "cell_type": "code",
   "execution_count": 12,
   "metadata": {},
   "outputs": [
    {
     "data": {
      "text/plain": [
       "LinearSVC(max_iter=100000000, random_state=9)"
      ]
     },
     "execution_count": 12,
     "metadata": {},
     "output_type": "execute_result"
    }
   ],
   "source": [
    "modelAveragePixel = LinearSVC(random_state = 9, max_iter = 100000000)\n",
    "modelAveragePixel.fit(train_average_pixel, train_labels)\n",
    "filename = 'modelAveragePixel.sav'\n",
    "pickle.dump(modelAveragePixel, open(filename, 'wb'))"
   ]
  },
  {
   "cell_type": "code",
   "execution_count": 12,
   "metadata": {},
   "outputs": [
    {
     "data": {
      "text/plain": [
       "(512, 1024, 3)"
      ]
     },
     "execution_count": 12,
     "metadata": {},
     "output_type": "execute_result"
    }
   ],
   "source": [
    "train_images[0].shape"
   ]
  },
  {
   "cell_type": "code",
   "execution_count": 13,
   "metadata": {},
   "outputs": [
    {
     "name": "stdout",
     "output_type": "stream",
     "text": [
      "Model: \"sequential\"\n",
      "_________________________________________________________________\n",
      "Layer (type)                 Output Shape              Param #   \n",
      "=================================================================\n",
      "conv2d (Conv2D)              (None, 510, 1022, 64)     1792      \n",
      "_________________________________________________________________\n",
      "max_pooling2d (MaxPooling2D) (None, 255, 511, 64)      0         \n",
      "_________________________________________________________________\n",
      "conv2d_1 (Conv2D)            (None, 253, 509, 132)     76164     \n",
      "_________________________________________________________________\n",
      "max_pooling2d_1 (MaxPooling2 (None, 126, 254, 132)     0         \n",
      "_________________________________________________________________\n",
      "flatten (Flatten)            (None, 4224528)           0         \n",
      "_________________________________________________________________\n",
      "dense (Dense)                (None, 64)                270369856 \n",
      "_________________________________________________________________\n",
      "dense_1 (Dense)              (None, 5)                 325       \n",
      "=================================================================\n",
      "Total params: 270,448,137\n",
      "Trainable params: 270,448,137\n",
      "Non-trainable params: 0\n",
      "_________________________________________________________________\n"
     ]
    }
   ],
   "source": [
    "cnn = models.Sequential([\n",
    "    layers.Conv2D(filters=64, kernel_size=(3, 3), activation='relu', input_shape=(512, 1024, 3)),\n",
    "    layers.MaxPooling2D((2, 2)),\n",
    "    \n",
    "    layers.Conv2D(filters=132, kernel_size=(3, 3), activation='relu'),\n",
    "    layers.MaxPooling2D((2, 2)),\n",
    "    \n",
    "    layers.Flatten(),\n",
    "    layers.Dense(64, activation='relu'),\n",
    "    layers.Dense(5, activation='softmax')\n",
    "])\n",
    "cnn.summary()"
   ]
  },
  {
   "cell_type": "code",
   "execution_count": 18,
   "metadata": {},
   "outputs": [
    {
     "ename": "ValueError",
     "evalue": "Data cardinality is ambiguous:\n  x sizes: 512, 512, 512, 512, 512, 512, 512, 512, 512, 512, 512, 512, 512, 512, 512, 512, 512, 512, 512, 512, 512, 512, 512, 512, 512, 512, 512, 512, 512, 512, 512, 512, 512, 512, 512, 512, 512, 512, 512, 512, 512, 512, 512, 512, 512, 512, 512, 512, 512, 512, 512, 512, 512, 512, 512\n  y sizes: 55\nMake sure all arrays contain the same number of samples.",
     "output_type": "error",
     "traceback": [
      "\u001b[1;31m---------------------------------------------------------------------------\u001b[0m",
      "\u001b[1;31mValueError\u001b[0m                                Traceback (most recent call last)",
      "\u001b[1;32mc:\\Users\\sumei\\Documents\\UKZN\\Honours\\Semester 1\\COMP702\\other 3\\COMP702_CourseProject\\machine_learning_model.ipynb Cell 19'\u001b[0m in \u001b[0;36m<cell line: 2>\u001b[1;34m()\u001b[0m\n\u001b[0;32m      <a href='vscode-notebook-cell:/c%3A/Users/sumei/Documents/UKZN/Honours/Semester%201/COMP702/other%203/COMP702_CourseProject/machine_learning_model.ipynb#ch0000018?line=0'>1</a>\u001b[0m cnn\u001b[39m.\u001b[39mcompile(optimizer\u001b[39m=\u001b[39m\u001b[39m'\u001b[39m\u001b[39madam\u001b[39m\u001b[39m'\u001b[39m, loss\u001b[39m=\u001b[39m\u001b[39m'\u001b[39m\u001b[39msparse_categorical_crossentropy\u001b[39m\u001b[39m'\u001b[39m, metrics\u001b[39m=\u001b[39m[\u001b[39m'\u001b[39m\u001b[39maccuracy\u001b[39m\u001b[39m'\u001b[39m])\n\u001b[1;32m----> <a href='vscode-notebook-cell:/c%3A/Users/sumei/Documents/UKZN/Honours/Semester%201/COMP702/other%203/COMP702_CourseProject/machine_learning_model.ipynb#ch0000018?line=1'>2</a>\u001b[0m cnn\u001b[39m.\u001b[39;49mfit(train_images, cnn_train_labels, epochs\u001b[39m=\u001b[39;49m\u001b[39m10\u001b[39;49m)\n",
      "File \u001b[1;32mc:\\Users\\sumei\\anaconda3\\envs\\COMP702Proj\\lib\\site-packages\\tensorflow\\python\\keras\\engine\\training.py:1143\u001b[0m, in \u001b[0;36mModel.fit\u001b[1;34m(self, x, y, batch_size, epochs, verbose, callbacks, validation_split, validation_data, shuffle, class_weight, sample_weight, initial_epoch, steps_per_epoch, validation_steps, validation_batch_size, validation_freq, max_queue_size, workers, use_multiprocessing)\u001b[0m\n\u001b[0;32m   1137\u001b[0m   \u001b[39mself\u001b[39m\u001b[39m.\u001b[39m_cluster_coordinator \u001b[39m=\u001b[39m cluster_coordinator\u001b[39m.\u001b[39mClusterCoordinator(\n\u001b[0;32m   1138\u001b[0m       \u001b[39mself\u001b[39m\u001b[39m.\u001b[39mdistribute_strategy)\n\u001b[0;32m   1140\u001b[0m \u001b[39mwith\u001b[39;00m \u001b[39mself\u001b[39m\u001b[39m.\u001b[39mdistribute_strategy\u001b[39m.\u001b[39mscope(), \\\n\u001b[0;32m   1141\u001b[0m      training_utils\u001b[39m.\u001b[39mRespectCompiledTrainableState(\u001b[39mself\u001b[39m):\n\u001b[0;32m   1142\u001b[0m   \u001b[39m# Creates a `tf.data.Dataset` and handles batch and epoch iteration.\u001b[39;00m\n\u001b[1;32m-> 1143\u001b[0m   data_handler \u001b[39m=\u001b[39m data_adapter\u001b[39m.\u001b[39;49mget_data_handler(\n\u001b[0;32m   1144\u001b[0m       x\u001b[39m=\u001b[39;49mx,\n\u001b[0;32m   1145\u001b[0m       y\u001b[39m=\u001b[39;49my,\n\u001b[0;32m   1146\u001b[0m       sample_weight\u001b[39m=\u001b[39;49msample_weight,\n\u001b[0;32m   1147\u001b[0m       batch_size\u001b[39m=\u001b[39;49mbatch_size,\n\u001b[0;32m   1148\u001b[0m       steps_per_epoch\u001b[39m=\u001b[39;49msteps_per_epoch,\n\u001b[0;32m   1149\u001b[0m       initial_epoch\u001b[39m=\u001b[39;49minitial_epoch,\n\u001b[0;32m   1150\u001b[0m       epochs\u001b[39m=\u001b[39;49mepochs,\n\u001b[0;32m   1151\u001b[0m       shuffle\u001b[39m=\u001b[39;49mshuffle,\n\u001b[0;32m   1152\u001b[0m       class_weight\u001b[39m=\u001b[39;49mclass_weight,\n\u001b[0;32m   1153\u001b[0m       max_queue_size\u001b[39m=\u001b[39;49mmax_queue_size,\n\u001b[0;32m   1154\u001b[0m       workers\u001b[39m=\u001b[39;49mworkers,\n\u001b[0;32m   1155\u001b[0m       use_multiprocessing\u001b[39m=\u001b[39;49muse_multiprocessing,\n\u001b[0;32m   1156\u001b[0m       model\u001b[39m=\u001b[39;49m\u001b[39mself\u001b[39;49m,\n\u001b[0;32m   1157\u001b[0m       steps_per_execution\u001b[39m=\u001b[39;49m\u001b[39mself\u001b[39;49m\u001b[39m.\u001b[39;49m_steps_per_execution)\n\u001b[0;32m   1159\u001b[0m   \u001b[39m# Container that configures and calls `tf.keras.Callback`s.\u001b[39;00m\n\u001b[0;32m   1160\u001b[0m   \u001b[39mif\u001b[39;00m \u001b[39mnot\u001b[39;00m \u001b[39misinstance\u001b[39m(callbacks, callbacks_module\u001b[39m.\u001b[39mCallbackList):\n",
      "File \u001b[1;32mc:\\Users\\sumei\\anaconda3\\envs\\COMP702Proj\\lib\\site-packages\\tensorflow\\python\\keras\\engine\\data_adapter.py:1400\u001b[0m, in \u001b[0;36mget_data_handler\u001b[1;34m(*args, **kwargs)\u001b[0m\n\u001b[0;32m   1398\u001b[0m \u001b[39mif\u001b[39;00m \u001b[39mgetattr\u001b[39m(kwargs[\u001b[39m\"\u001b[39m\u001b[39mmodel\u001b[39m\u001b[39m\"\u001b[39m], \u001b[39m\"\u001b[39m\u001b[39m_cluster_coordinator\u001b[39m\u001b[39m\"\u001b[39m, \u001b[39mNone\u001b[39;00m):\n\u001b[0;32m   1399\u001b[0m   \u001b[39mreturn\u001b[39;00m _ClusterCoordinatorDataHandler(\u001b[39m*\u001b[39margs, \u001b[39m*\u001b[39m\u001b[39m*\u001b[39mkwargs)\n\u001b[1;32m-> 1400\u001b[0m \u001b[39mreturn\u001b[39;00m DataHandler(\u001b[39m*\u001b[39margs, \u001b[39m*\u001b[39m\u001b[39m*\u001b[39mkwargs)\n",
      "File \u001b[1;32mc:\\Users\\sumei\\anaconda3\\envs\\COMP702Proj\\lib\\site-packages\\tensorflow\\python\\keras\\engine\\data_adapter.py:1155\u001b[0m, in \u001b[0;36mDataHandler.__init__\u001b[1;34m(self, x, y, sample_weight, batch_size, steps_per_epoch, initial_epoch, epochs, shuffle, class_weight, max_queue_size, workers, use_multiprocessing, model, steps_per_execution, distribute)\u001b[0m\n\u001b[0;32m   1152\u001b[0m   \u001b[39mself\u001b[39m\u001b[39m.\u001b[39m_steps_per_execution_value \u001b[39m=\u001b[39m steps_per_execution\u001b[39m.\u001b[39mnumpy()\u001b[39m.\u001b[39mitem()\n\u001b[0;32m   1154\u001b[0m adapter_cls \u001b[39m=\u001b[39m select_data_adapter(x, y)\n\u001b[1;32m-> 1155\u001b[0m \u001b[39mself\u001b[39m\u001b[39m.\u001b[39m_adapter \u001b[39m=\u001b[39m adapter_cls(\n\u001b[0;32m   1156\u001b[0m     x,\n\u001b[0;32m   1157\u001b[0m     y,\n\u001b[0;32m   1158\u001b[0m     batch_size\u001b[39m=\u001b[39;49mbatch_size,\n\u001b[0;32m   1159\u001b[0m     steps\u001b[39m=\u001b[39;49msteps_per_epoch,\n\u001b[0;32m   1160\u001b[0m     epochs\u001b[39m=\u001b[39;49mepochs \u001b[39m-\u001b[39;49m initial_epoch,\n\u001b[0;32m   1161\u001b[0m     sample_weights\u001b[39m=\u001b[39;49msample_weight,\n\u001b[0;32m   1162\u001b[0m     shuffle\u001b[39m=\u001b[39;49mshuffle,\n\u001b[0;32m   1163\u001b[0m     max_queue_size\u001b[39m=\u001b[39;49mmax_queue_size,\n\u001b[0;32m   1164\u001b[0m     workers\u001b[39m=\u001b[39;49mworkers,\n\u001b[0;32m   1165\u001b[0m     use_multiprocessing\u001b[39m=\u001b[39;49muse_multiprocessing,\n\u001b[0;32m   1166\u001b[0m     distribution_strategy\u001b[39m=\u001b[39;49mds_context\u001b[39m.\u001b[39;49mget_strategy(),\n\u001b[0;32m   1167\u001b[0m     model\u001b[39m=\u001b[39;49mmodel)\n\u001b[0;32m   1169\u001b[0m strategy \u001b[39m=\u001b[39m ds_context\u001b[39m.\u001b[39mget_strategy()\n\u001b[0;32m   1171\u001b[0m \u001b[39mself\u001b[39m\u001b[39m.\u001b[39m_current_step \u001b[39m=\u001b[39m \u001b[39m0\u001b[39m\n",
      "File \u001b[1;32mc:\\Users\\sumei\\anaconda3\\envs\\COMP702Proj\\lib\\site-packages\\tensorflow\\python\\keras\\engine\\data_adapter.py:258\u001b[0m, in \u001b[0;36mTensorLikeDataAdapter.__init__\u001b[1;34m(self, x, y, sample_weights, sample_weight_modes, batch_size, epochs, steps, shuffle, **kwargs)\u001b[0m\n\u001b[0;32m    255\u001b[0m inputs \u001b[39m=\u001b[39m pack_x_y_sample_weight(x, y, sample_weights)\n\u001b[0;32m    257\u001b[0m num_samples \u001b[39m=\u001b[39m \u001b[39mset\u001b[39m(\u001b[39mint\u001b[39m(i\u001b[39m.\u001b[39mshape[\u001b[39m0\u001b[39m]) \u001b[39mfor\u001b[39;00m i \u001b[39min\u001b[39;00m nest\u001b[39m.\u001b[39mflatten(inputs))\u001b[39m.\u001b[39mpop()\n\u001b[1;32m--> 258\u001b[0m _check_data_cardinality(inputs)\n\u001b[0;32m    260\u001b[0m \u001b[39m# If batch_size is not passed but steps is, calculate from the input data.\u001b[39;00m\n\u001b[0;32m    261\u001b[0m \u001b[39m# Default to 32 for backwards compat.\u001b[39;00m\n\u001b[0;32m    262\u001b[0m \u001b[39mif\u001b[39;00m \u001b[39mnot\u001b[39;00m batch_size:\n",
      "File \u001b[1;32mc:\\Users\\sumei\\anaconda3\\envs\\COMP702Proj\\lib\\site-packages\\tensorflow\\python\\keras\\engine\\data_adapter.py:1666\u001b[0m, in \u001b[0;36m_check_data_cardinality\u001b[1;34m(data)\u001b[0m\n\u001b[0;32m   1663\u001b[0m   msg \u001b[39m+\u001b[39m\u001b[39m=\u001b[39m \u001b[39m\"\u001b[39m\u001b[39m  \u001b[39m\u001b[39m{}\u001b[39;00m\u001b[39m sizes: \u001b[39m\u001b[39m{}\u001b[39;00m\u001b[39m\\n\u001b[39;00m\u001b[39m\"\u001b[39m\u001b[39m.\u001b[39mformat(\n\u001b[0;32m   1664\u001b[0m       label, \u001b[39m\"\u001b[39m\u001b[39m, \u001b[39m\u001b[39m\"\u001b[39m\u001b[39m.\u001b[39mjoin(\u001b[39mstr\u001b[39m(i\u001b[39m.\u001b[39mshape[\u001b[39m0\u001b[39m]) \u001b[39mfor\u001b[39;00m i \u001b[39min\u001b[39;00m nest\u001b[39m.\u001b[39mflatten(single_data)))\n\u001b[0;32m   1665\u001b[0m msg \u001b[39m+\u001b[39m\u001b[39m=\u001b[39m \u001b[39m\"\u001b[39m\u001b[39mMake sure all arrays contain the same number of samples.\u001b[39m\u001b[39m\"\u001b[39m\n\u001b[1;32m-> 1666\u001b[0m \u001b[39mraise\u001b[39;00m \u001b[39mValueError\u001b[39;00m(msg)\n",
      "\u001b[1;31mValueError\u001b[0m: Data cardinality is ambiguous:\n  x sizes: 512, 512, 512, 512, 512, 512, 512, 512, 512, 512, 512, 512, 512, 512, 512, 512, 512, 512, 512, 512, 512, 512, 512, 512, 512, 512, 512, 512, 512, 512, 512, 512, 512, 512, 512, 512, 512, 512, 512, 512, 512, 512, 512, 512, 512, 512, 512, 512, 512, 512, 512, 512, 512, 512, 512\n  y sizes: 55\nMake sure all arrays contain the same number of samples."
     ]
    }
   ],
   "source": [
    "cnn.compile(optimizer='adam', loss='sparse_categorical_crossentropy', metrics=['accuracy'])\n",
    "cnn.fit(train_images, cnn_train_labels, epochs=10)"
   ]
  },
  {
   "cell_type": "code",
   "execution_count": 17,
   "metadata": {},
   "outputs": [
    {
     "data": {
      "text/plain": [
       "512"
      ]
     },
     "execution_count": 17,
     "metadata": {},
     "output_type": "execute_result"
    }
   ],
   "source": [
    "len(train_images[0])"
   ]
  },
  {
   "cell_type": "code",
   "execution_count": null,
   "metadata": {},
   "outputs": [],
   "source": []
  },
  {
   "cell_type": "code",
   "execution_count": null,
   "metadata": {},
   "outputs": [],
   "source": []
  },
  {
   "cell_type": "code",
   "execution_count": null,
   "metadata": {},
   "outputs": [],
   "source": []
  },
  {
   "cell_type": "markdown",
   "metadata": {},
   "source": [
    "# Test the Support Vector Classifier"
   ]
  },
  {
   "cell_type": "code",
   "execution_count": 80,
   "metadata": {},
   "outputs": [
    {
     "name": "stdout",
     "output_type": "stream",
     "text": [
      "[]\n"
     ]
    }
   ],
   "source": [
    "listA = []\n",
    "for root, directories, files in path:\n",
    "    for file in files:\n",
    "        image = cv2.imread(\"Notes_DataSet\\\\\" + file, cv2.IMREAD_GRAYSCALE)\n",
    "        haralick_features = extract_features(image)\n",
    "        prediction = SVCmodel.predict(features.reshape(1, -1))[0]\n",
    "        print(haralick_features)\n",
    "        listA.append(prediction)\n",
    "\n",
    "print(listA)"
   ]
  },
  {
   "cell_type": "code",
   "execution_count": 57,
   "metadata": {},
   "outputs": [
    {
     "data": {
      "text/plain": [
       "[]"
      ]
     },
     "execution_count": 57,
     "metadata": {},
     "output_type": "execute_result"
    }
   ],
   "source": [
    "listA"
   ]
  }
 ],
 "metadata": {
  "kernelspec": {
   "display_name": "Python 3.9.12 ('COMP702Proj')",
   "language": "python",
   "name": "python3"
  },
  "language_info": {
   "codemirror_mode": {
    "name": "ipython",
    "version": 3
   },
   "file_extension": ".py",
   "mimetype": "text/x-python",
   "name": "python",
   "nbconvert_exporter": "python",
   "pygments_lexer": "ipython3",
   "version": "3.9.12"
  },
  "orig_nbformat": 4,
  "vscode": {
   "interpreter": {
    "hash": "2f9485475195dc84a11a6143ed063eb4083972a273d23aac80d9d84c42b96105"
   }
  }
 },
 "nbformat": 4,
 "nbformat_minor": 2
}
